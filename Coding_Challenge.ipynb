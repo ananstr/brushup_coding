{
  "cells": [
    {
      "cell_type": "markdown",
      "metadata": {
        "colab_type": "text",
        "id": "view-in-github"
      },
      "source": [
        "<a href=\"https://colab.research.google.com/github/ananstr/brushup_coding/blob/main/Coding_Challenge.ipynb\" target=\"_parent\"><img src=\"https://colab.research.google.com/assets/colab-badge.svg\" alt=\"Open In Colab\"/></a>"
      ]
    },
    {
      "cell_type": "markdown",
      "metadata": {
        "id": "oiF0V3pCPT6i"
      },
      "source": [
        "## H0: There is a correlation between a country's GDP per capita and its CO2 emissions per capita."
      ]
    },
    {
      "cell_type": "markdown",
      "metadata": {},
      "source": [
        "#### To look at the correlation between a country's GDP per capita and its CO2 emissions per capita, we downloaded the most recent available data from the World Bank (2020):"
      ]
    },
    {
      "cell_type": "markdown",
      "metadata": {},
      "source": [
        "- GDP per capita (current US$): This indicator measures the average income per person in a country.\n",
        "- CO2 emissions (metric tons per capita): This indicator measures the amount of carbon dioxide emitted per person in a country."
      ]
    },
    {
      "cell_type": "markdown",
      "metadata": {},
      "source": [
        "#### Steps for Analysis:"
      ]
    },
    {
      "cell_type": "markdown",
      "metadata": {},
      "source": [
        "- Data Acquisition: Get GDP per capita and CO2 emissions data for from the World Bank database.\n",
        "- Data Assessment and Preparation: Inspect the imported data, clean it up to ensure consistency, handle missing values, and address outliers.\n",
        "- Visualization of Data: Create a scatter plot to visually represent the relationship."
      ]
    },
    {
      "cell_type": "code",
      "execution_count": 1,
      "metadata": {
        "id": "WYQCOkoEZQLx"
      },
      "outputs": [],
      "source": [
        "import pandas as pd\n",
        "import numpy as np\n",
        "import matplotlib.pyplot as plt\n",
        "import seaborn as sns"
      ]
    },
    {
      "cell_type": "markdown",
      "metadata": {},
      "source": [
        "### Data Acquisition"
      ]
    },
    {
      "cell_type": "code",
      "execution_count": 2,
      "metadata": {
        "colab": {
          "base_uri": "https://localhost:8080/"
        },
        "id": "zjp1gK9WYpAD",
        "outputId": "60bc2640-ffc1-4902-c1e8-0fcc60bd8a12"
      },
      "outputs": [
        {
          "name": "stdout",
          "output_type": "stream",
          "text": [
            "Relative Path: /Users/newmac/Downloads/ananstr-brushup_coding-4015030/GDP_CO2_2020.csv\n"
          ]
        }
      ],
      "source": [
        "# Get the relative file path\n",
        "import os\n",
        "\n",
        "current_directory = os.getcwd()\n",
        "\n",
        "# Define the file name or sub-directory where your file is located\n",
        "file_name = 'GDP_CO2_2020.csv'\n",
        "\n",
        "# Get the relative path\n",
        "relative_path = os.path.join(current_directory, file_name)\n",
        "\n",
        "print(\"Relative Path:\", relative_path)"
      ]
    },
    {
      "cell_type": "code",
      "execution_count": 3,
      "metadata": {
        "id": "NcisscjAZEDo"
      },
      "outputs": [],
      "source": [
        "#Import data\n",
        "df = pd.read_csv(\"GDP_CO2_2020.csv\")"
      ]
    },
    {
      "cell_type": "markdown",
      "metadata": {},
      "source": [
        "### Data Assessment and Preparation"
      ]
    },
    {
      "cell_type": "code",
      "execution_count": 4,
      "metadata": {
        "colab": {
          "base_uri": "https://localhost:8080/"
        },
        "id": "Fo4CkOiMZmI5",
        "outputId": "8ff4443a-cd6e-4278-db11-4432035fcf45"
      },
      "outputs": [
        {
          "name": "stdout",
          "output_type": "stream",
          "text": [
            "(651, 5)\n"
          ]
        }
      ],
      "source": [
        "# Looking for number of rows and columns\n",
        "print(df.shape)"
      ]
    },
    {
      "cell_type": "code",
      "execution_count": 5,
      "metadata": {
        "colab": {
          "base_uri": "https://localhost:8080/"
        },
        "id": "zaN62OXPZ87g",
        "outputId": "f98b4f27-ecbc-4348-c465-a568751a01db"
      },
      "outputs": [
        {
          "data": {
            "text/plain": [
              "Index(['Series Name', 'Series Code', 'Country Name', 'Country Code',\n",
              "       '2020 [YR2020]'],\n",
              "      dtype='object')"
            ]
          },
          "execution_count": 5,
          "metadata": {},
          "output_type": "execute_result"
        }
      ],
      "source": [
        "# Check out column names\n",
        "df.columns"
      ]
    },
    {
      "cell_type": "code",
      "execution_count": 6,
      "metadata": {
        "colab": {
          "base_uri": "https://localhost:8080/"
        },
        "id": "x7VYZ7GktbJ3",
        "outputId": "581656fa-f7ae-4ea4-cc92-895a72bd1b05"
      },
      "outputs": [
        {
          "name": "stdout",
          "output_type": "stream",
          "text": [
            "0      0\n",
            "1      0\n",
            "2      0\n",
            "3      0\n",
            "4      0\n",
            "      ..\n",
            "646    1\n",
            "647    1\n",
            "648    0\n",
            "649    0\n",
            "650    0\n",
            "Length: 651, dtype: int64\n"
          ]
        }
      ],
      "source": [
        "#Replace \"..\" (WB's for NaN) with \"NaN\"\n",
        "df = df.replace(\"..\", np.nan)\n",
        "\n",
        "#Show how many missing variable there are per row\n",
        "missing_values_per_row = df.isnull().sum(axis=1)\n",
        "print(missing_values_per_row)"
      ]
    },
    {
      "cell_type": "code",
      "execution_count": 10,
      "metadata": {
        "colab": {
          "base_uri": "https://localhost:8080/",
          "height": 206
        },
        "id": "qWYizpYXbAy4",
        "outputId": "9d3c6f5f-c5f3-4986-c747-769f66f7f691"
      },
      "outputs": [
        {
          "data": {
            "text/html": [
              "<div>\n",
              "<style scoped>\n",
              "    .dataframe tbody tr th:only-of-type {\n",
              "        vertical-align: middle;\n",
              "    }\n",
              "\n",
              "    .dataframe tbody tr th {\n",
              "        vertical-align: top;\n",
              "    }\n",
              "\n",
              "    .dataframe thead th {\n",
              "        text-align: right;\n",
              "    }\n",
              "</style>\n",
              "<table border=\"1\" class=\"dataframe\">\n",
              "  <thead>\n",
              "    <tr style=\"text-align: right;\">\n",
              "      <th>Series Name</th>\n",
              "      <th>CO2 emissions (metric tons per capita)</th>\n",
              "      <th>GDP per capita (current US$)</th>\n",
              "      <th>Population, total</th>\n",
              "    </tr>\n",
              "    <tr>\n",
              "      <th>Country Name</th>\n",
              "      <th></th>\n",
              "      <th></th>\n",
              "      <th></th>\n",
              "    </tr>\n",
              "  </thead>\n",
              "  <tbody>\n",
              "    <tr>\n",
              "      <th>Bahamas, The</th>\n",
              "      <td>6.042251</td>\n",
              "      <td>24499.164762</td>\n",
              "      <td>406471.0</td>\n",
              "    </tr>\n",
              "    <tr>\n",
              "      <th>American Samoa</th>\n",
              "      <td>NaN</td>\n",
              "      <td>15609.777220</td>\n",
              "      <td>46189.0</td>\n",
              "    </tr>\n",
              "    <tr>\n",
              "      <th>Turkmenistan</th>\n",
              "      <td>10.184086</td>\n",
              "      <td>7330.366288</td>\n",
              "      <td>6250438.0</td>\n",
              "    </tr>\n",
              "    <tr>\n",
              "      <th>St. Kitts and Nevis</th>\n",
              "      <td>4.848663</td>\n",
              "      <td>18553.423916</td>\n",
              "      <td>47642.0</td>\n",
              "    </tr>\n",
              "    <tr>\n",
              "      <th>Bulgaria</th>\n",
              "      <td>4.923280</td>\n",
              "      <td>10148.342395</td>\n",
              "      <td>6934015.0</td>\n",
              "    </tr>\n",
              "  </tbody>\n",
              "</table>\n",
              "</div>"
            ],
            "text/plain": [
              "Series Name          CO2 emissions (metric tons per capita)  \\\n",
              "Country Name                                                  \n",
              "Bahamas, The                                       6.042251   \n",
              "American Samoa                                          NaN   \n",
              "Turkmenistan                                      10.184086   \n",
              "St. Kitts and Nevis                                4.848663   \n",
              "Bulgaria                                           4.923280   \n",
              "\n",
              "Series Name          GDP per capita (current US$)  Population, total  \n",
              "Country Name                                                          \n",
              "Bahamas, The                         24499.164762           406471.0  \n",
              "American Samoa                       15609.777220            46189.0  \n",
              "Turkmenistan                          7330.366288          6250438.0  \n",
              "St. Kitts and Nevis                  18553.423916            47642.0  \n",
              "Bulgaria                             10148.342395          6934015.0  "
            ]
          },
          "execution_count": 10,
          "metadata": {},
          "output_type": "execute_result"
        }
      ],
      "source": [
        "# Pivot the dataframe to resolve the problem of all the indicators being listed one after another in rows\n",
        "\n",
        "df['2020 [YR2020]'] = df['2020 [YR2020]'].astype('float')\n",
        "df_pivoted = df.pivot_table(index='Country Name', columns='Series Name', values='2020 [YR2020]')\n",
        "df_pivoted.sample(5)"
      ]
    },
    {
      "cell_type": "code",
      "execution_count": 11,
      "metadata": {
        "colab": {
          "base_uri": "https://localhost:8080/",
          "height": 455
        },
        "id": "wiw0TljEeydY",
        "outputId": "ddcf85b9-acf6-45ae-f303-b38011295aef"
      },
      "outputs": [
        {
          "data": {
            "text/html": [
              "<div>\n",
              "<style scoped>\n",
              "    .dataframe tbody tr th:only-of-type {\n",
              "        vertical-align: middle;\n",
              "    }\n",
              "\n",
              "    .dataframe tbody tr th {\n",
              "        vertical-align: top;\n",
              "    }\n",
              "\n",
              "    .dataframe thead th {\n",
              "        text-align: right;\n",
              "    }\n",
              "</style>\n",
              "<table border=\"1\" class=\"dataframe\">\n",
              "  <thead>\n",
              "    <tr style=\"text-align: right;\">\n",
              "      <th>Series Name</th>\n",
              "      <th>CO2</th>\n",
              "      <th>GDP</th>\n",
              "      <th>pop</th>\n",
              "    </tr>\n",
              "    <tr>\n",
              "      <th>Country Name</th>\n",
              "      <th></th>\n",
              "      <th></th>\n",
              "      <th></th>\n",
              "    </tr>\n",
              "  </thead>\n",
              "  <tbody>\n",
              "    <tr>\n",
              "      <th>Afghanistan</th>\n",
              "      <td>0.223479</td>\n",
              "      <td>512.055098</td>\n",
              "      <td>38972230.0</td>\n",
              "    </tr>\n",
              "    <tr>\n",
              "      <th>Albania</th>\n",
              "      <td>1.544550</td>\n",
              "      <td>5343.037704</td>\n",
              "      <td>2837849.0</td>\n",
              "    </tr>\n",
              "    <tr>\n",
              "      <th>Algeria</th>\n",
              "      <td>3.718223</td>\n",
              "      <td>3794.409524</td>\n",
              "      <td>43451666.0</td>\n",
              "    </tr>\n",
              "    <tr>\n",
              "      <th>American Samoa</th>\n",
              "      <td>NaN</td>\n",
              "      <td>15609.777220</td>\n",
              "      <td>46189.0</td>\n",
              "    </tr>\n",
              "    <tr>\n",
              "      <th>Andorra</th>\n",
              "      <td>5.777148</td>\n",
              "      <td>37207.221999</td>\n",
              "      <td>77700.0</td>\n",
              "    </tr>\n",
              "    <tr>\n",
              "      <th>...</th>\n",
              "      <td>...</td>\n",
              "      <td>...</td>\n",
              "      <td>...</td>\n",
              "    </tr>\n",
              "    <tr>\n",
              "      <th>Virgin Islands (U.S.)</th>\n",
              "      <td>NaN</td>\n",
              "      <td>39411.045254</td>\n",
              "      <td>106290.0</td>\n",
              "    </tr>\n",
              "    <tr>\n",
              "      <th>West Bank and Gaza</th>\n",
              "      <td>NaN</td>\n",
              "      <td>3233.568638</td>\n",
              "      <td>4803269.0</td>\n",
              "    </tr>\n",
              "    <tr>\n",
              "      <th>Yemen, Rep.</th>\n",
              "      <td>0.308515</td>\n",
              "      <td>626.309169</td>\n",
              "      <td>32284046.0</td>\n",
              "    </tr>\n",
              "    <tr>\n",
              "      <th>Zambia</th>\n",
              "      <td>0.401903</td>\n",
              "      <td>958.264901</td>\n",
              "      <td>18927715.0</td>\n",
              "    </tr>\n",
              "    <tr>\n",
              "      <th>Zimbabwe</th>\n",
              "      <td>0.530484</td>\n",
              "      <td>1372.696674</td>\n",
              "      <td>15669666.0</td>\n",
              "    </tr>\n",
              "  </tbody>\n",
              "</table>\n",
              "<p>217 rows × 3 columns</p>\n",
              "</div>"
            ],
            "text/plain": [
              "Series Name                 CO2           GDP         pop\n",
              "Country Name                                             \n",
              "Afghanistan            0.223479    512.055098  38972230.0\n",
              "Albania                1.544550   5343.037704   2837849.0\n",
              "Algeria                3.718223   3794.409524  43451666.0\n",
              "American Samoa              NaN  15609.777220     46189.0\n",
              "Andorra                5.777148  37207.221999     77700.0\n",
              "...                         ...           ...         ...\n",
              "Virgin Islands (U.S.)       NaN  39411.045254    106290.0\n",
              "West Bank and Gaza          NaN   3233.568638   4803269.0\n",
              "Yemen, Rep.            0.308515    626.309169  32284046.0\n",
              "Zambia                 0.401903    958.264901  18927715.0\n",
              "Zimbabwe               0.530484   1372.696674  15669666.0\n",
              "\n",
              "[217 rows x 3 columns]"
            ]
          },
          "execution_count": 11,
          "metadata": {},
          "output_type": "execute_result"
        }
      ],
      "source": [
        "# Rename column names for convenience\n",
        "\n",
        "rename_dict = {\n",
        "    'CO2 emissions (metric tons per capita)' : 'CO2',\n",
        "    'GDP per capita (current US$)' : 'GDP',\n",
        "    'Population, total' : 'pop'\n",
        "\n",
        "}\n",
        "\n",
        "df_pivoted.rename(columns=rename_dict, inplace=True)\n",
        "df_pivoted"
      ]
    },
    {
      "cell_type": "markdown",
      "metadata": {},
      "source": [
        "### Visualization of Data"
      ]
    },
    {
      "cell_type": "code",
      "execution_count": 56,
      "metadata": {
        "colab": {
          "base_uri": "https://localhost:8080/",
          "height": 490
        },
        "id": "LwAqNNp6dmIj",
        "outputId": "165215cd-0a40-4dc0-824c-52144cd4cebe"
      },
      "outputs": [
        {
          "data": {
            "text/plain": [
              "<matplotlib.collections.PathCollection at 0x12db972d0>"
            ]
          },
          "execution_count": 56,
          "metadata": {},
          "output_type": "execute_result"
        },
        {
          "data": {
            "image/png": "[encoded data removed]",
            "text/plain": [
              "<Figure size 640x480 with 1 Axes>"
            ]
          },
          "metadata": {},
          "output_type": "display_data"
        }
      ],
      "source": [
        "# Create a scatter plot using Pyplot, with GDP on the x-axis and CO2 on the y-axis. Set the x-axis to a logarithmic scale to make it easier to visualize the exponential relationship between x and y.\n",
        "\n",
        "y = df_pivoted['CO2']\n",
        "x = df_pivoted['GDP']\n",
        "plt.ylabel('CO2 emissions (metric tons per capita)')\n",
        "plt.xlabel('GDP per capita (current US$)')\n",
        "plt.xscale(\"log\")\n",
        "plt.title('Correlation between CO2 emissions and GDP per capita')\n",
        "plt.scatter(x, y)"
      ]
    },
    {
      "cell_type": "markdown",
      "metadata": {
        "id": "J52eRO4jP6wm"
      },
      "source": [
        "### Conclusion\n",
        "\n",
        "From the scatter plot above we can conclude that the initial hypothesis was true: as GDP per capita increases, CO2 emissions per capita also tends to rise. This might be due to the fact that countries with higher GDP have more industrial activity contributing to higher CO2 emissions.\n",
        "\n",
        "However, we can see that there is also a tendency for the CO2 emissions to slightly go down as a country's economic development increases (measured by GDP per capita). This could be attributed to the fact that as the GDP increases, countries may pivot from industrialization to investing in cleaner technologies, improving energy efficiency, and implementing stricter environmental regulations, leading to a decline in emissions."
      ]
    },
    {
      "cell_type": "markdown",
      "metadata": {},
      "source": [
        "### Lessons learned:\n",
        "- Initially we wanted to look at the data by region (EU, North America, Africa, Arab States, etc.). However, most of the data for the aggregates of countries was missing. For this kind of analysis one would have to manually select the sets of countries and then calculate the aggregate values using Python.\n",
        "- WB data always has to be cleaned (for ex. to remove \"..\" for NaN) and manipulated (for example to convert rows with multiple indicators into separate columns).\n",
        "- When you download WB data for the entire world, it may include the totals for regions or the entire world, so it's best to drop this data from analysis.\n",
        "- Certain WB data is not updated regularly. Indicators like Population and GDP are relatively up-to-date, but for CO2 emissions, the most recent data is from 2020. Therefore to assess the relationship between GDP and CO2 emissions, we had to pull the data for the year 2020 or older."
      ]
    },
    {
      "cell_type": "markdown",
      "metadata": {
        "id": "WLp_Ca7oQ9to"
      },
      "source": []
    }
  ],
  "metadata": {
    "colab": {
      "include_colab_link": true,
      "provenance": []
    },
    "kernelspec": {
      "display_name": "Python 3",
      "name": "python3"
    },
    "language_info": {
      "codemirror_mode": {
        "name": "ipython",
        "version": 3
      },
      "file_extension": ".py",
      "mimetype": "text/x-python",
      "name": "python",
      "nbconvert_exporter": "python",
      "pygments_lexer": "ipython3",
      "version": "3.11.7"
    }
  },
  "nbformat": 4,
  "nbformat_minor": 0
}
